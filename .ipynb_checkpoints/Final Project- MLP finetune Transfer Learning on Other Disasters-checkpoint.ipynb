{
 "cells": [
  {
   "cell_type": "markdown",
   "metadata": {},
   "source": [
    "# Final Project: Disaster Tweet Classification"
   ]
  },
  {
   "cell_type": "code",
   "execution_count": 1,
   "metadata": {},
   "outputs": [],
   "source": [
    "__author__ = \"Kevin Guo, Pranav Sriram, Raymond Yao\"\n",
    "__version__ = \"CS224u, Stanford, Spring 2021\""
   ]
  },
  {
   "cell_type": "markdown",
   "metadata": {},
   "source": [
    "## Data Pre-Processing"
   ]
  },
  {
   "cell_type": "code",
   "execution_count": 2,
   "metadata": {},
   "outputs": [],
   "source": [
    "import numpy as np\n",
    "import pandas as pd\n",
    "import re\n",
    "from transformers import BertModel, BertTokenizer\n",
    "from transformers import AutoTokenizer\n",
    "import utils\n",
    "import torch\n",
    "import torch.nn as nn\n",
    "from torch_shallow_neural_classifier import TorchShallowNeuralClassifier\n",
    "from datasets import Dataset\n",
    "from datasets import load_dataset\n",
    "#from datasets import train_test_split\n",
    "from transformers import TrainingArguments\n",
    "from transformers import Trainer\n",
    "from torch.utils.data import DataLoader\n",
    "from transformers import AdamW\n",
    "from transformers import get_scheduler\n",
    "from tqdm.auto import tqdm\n",
    "from sklearn.model_selection import train_test_split"
   ]
  },
  {
   "cell_type": "code",
   "execution_count": 3,
   "metadata": {},
   "outputs": [],
   "source": [
    "# Set random seeds\n",
    "utils.fix_random_seeds()"
   ]
  },
  {
   "cell_type": "code",
   "execution_count": 4,
   "metadata": {},
   "outputs": [],
   "source": [
    "weights_name = 'bert-base-cased'"
   ]
  },
  {
   "cell_type": "code",
   "execution_count": 5,
   "metadata": {},
   "outputs": [],
   "source": [
    "bert_tokenizer = BertTokenizer.from_pretrained(weights_name)"
   ]
  },
  {
   "cell_type": "code",
   "execution_count": 6,
   "metadata": {},
   "outputs": [],
   "source": [
    "bert_model = BertModel.from_pretrained(weights_name)"
   ]
  },
  {
   "cell_type": "code",
   "execution_count": 7,
   "metadata": {},
   "outputs": [],
   "source": [
    "def bert_phi(text):\n",
    "    input_ids = bert_tokenizer.encode(text, add_special_tokens=True)\n",
    "    X = torch.tensor([input_ids])\n",
    "    with torch.no_grad():\n",
    "        reps = bert_model(X)\n",
    "        return reps.last_hidden_state.squeeze(0).numpy()"
   ]
  },
  {
   "cell_type": "code",
   "execution_count": 8,
   "metadata": {},
   "outputs": [],
   "source": [
    "def bert_classifier_phi(text):\n",
    "    reps = bert_phi(text)\n",
    "    #return reps.mean(axis=0)  # Another good, easy option.\n",
    "    return reps[0]"
   ]
  },
  {
   "cell_type": "code",
   "execution_count": 9,
   "metadata": {},
   "outputs": [],
   "source": [
    "all_data = pd.read_csv('real_and_fake_news.csv')\n",
    "all_data['text'] = all_data['text'].apply(lambda x: re.sub(r'https?\\S+', '', x))\n",
    "relevant_data, unneeded = np.split(all_data.sample(frac=1, random_state=42), [10000])\n",
    "train, dev, test = np.split(relevant_data, [int(.8*len(relevant_data)), int(.9*len(relevant_data))])"
   ]
  },
  {
   "cell_type": "code",
   "execution_count": 10,
   "metadata": {},
   "outputs": [
    {
     "name": "stdout",
     "output_type": "stream",
     "text": [
      "                                                    text  label\n",
      "30464   Obama Announces ‘Unfinished Business’ For 201...      0\n",
      "41926  IT BEGINS….OBAMA APPOINTED JUDGE Rules Trump U...      0\n",
      "8877   White House says Obama will not discuss FBI pr...      1\n",
      "3798   Treasury unit to share records with Senate for...      1\n",
      "39671  HOLLYWOOD LIBS HAVE EPIC MELT DOWNS…Threaten P...      0\n",
      "...                                                  ...    ...\n",
      "22636   Republicans Dine With Trump, Then Try To Rail...      0\n",
      "2622   Trump Jr., Manafort agree to negotiate over in...      1\n",
      "6334   After 2016 campaign, more Americans consider R...      1\n",
      "1801   US Senate may vote this week to add penalties ...      1\n",
      "20427  FPL shuts one reactor in Florida, reduces powe...      1\n",
      "\n",
      "[8000 rows x 2 columns]\n",
      "                                                    text  label\n",
      "34238  WILL HILLARY ATTEND? ‘CLOWN LIVES MATTER’ Rall...      0\n",
      "13316  Bosnian Croat war criminal Praljak killed hims...      1\n",
      "14057  U.S. ally seen clinching re-election in Hondur...      1\n",
      "38775  A MUST SEE! THE BALTIMORE RIOT STORY IN ONE BI...      0\n",
      "10653  Puerto Rico needs restructuring to avoid casca...      1\n",
      "...                                                  ...    ...\n",
      "15747  Funeral of slain Malta blogger hears warning t...      1\n",
      "4068   Trump proposes 15 percent business tax rate: W...      1\n",
      "30235   Jealous Donald Trump Attacks Megyn Kelly Agai...      0\n",
      "25317   White Grievance Queen Tomi Lahren Gets OWNED ...      0\n",
      "15273  Prospects for Putin-Trump meeting at APEC summ...      1\n",
      "\n",
      "[1000 rows x 2 columns]\n",
      "                                                    text  label\n",
      "44221        What a Wonderful World – US Saviour Complex      0\n",
      "25388   Obama Just OBLITERATED The GOP’s Threat To Ki...      0\n",
      "22701   Trump Immediately Politicizes London Tragedy ...      0\n",
      "17542  Nigeria jails 45 Boko Haram suspects in mass t...      1\n",
      "43009  OBAMA COZIES UP TO ANOTHER COMMUNIST LEADER TO...      0\n",
      "...                                                  ...    ...\n",
      "41841  SYRIAN IMMIGRANT Who Said “9-11 Changed The Wo...      0\n",
      "38962  OOPS! Lindsey Vonn Gets Hit With Big Dose Of K...      0\n",
      "9211   U.S. top court deals blow to Puerto Rico sover...      1\n",
      "19438  EU officials reach draft deal on more North Ko...      1\n",
      "2592   Trump aide Greenblatt heading to Jordan for ta...      1\n",
      "\n",
      "[1000 rows x 2 columns]\n"
     ]
    }
   ],
   "source": [
    "print(train)\n",
    "print(dev)\n",
    "print(test)"
   ]
  },
  {
   "cell_type": "code",
   "execution_count": 11,
   "metadata": {},
   "outputs": [
    {
     "name": "stdout",
     "output_type": "stream",
     "text": [
      "8000\n",
      "1000\n"
     ]
    }
   ],
   "source": [
    "X_str_train = train.text.values\n",
    "print(len(X_str_train))\n",
    "y_train = train.label.values\n",
    "\n",
    "X_str_dev = dev.text.values\n",
    "print(len(X_str_dev))\n",
    "y_dev = dev.label.values"
   ]
  },
  {
   "cell_type": "code",
   "execution_count": null,
   "metadata": {},
   "outputs": [],
   "source": [
    "%time X_train = [bert_classifier_phi(text) for text in X_str_train]"
   ]
  },
  {
   "cell_type": "code",
   "execution_count": null,
   "metadata": {},
   "outputs": [],
   "source": [
    "%time X_dev = [bert_classifier_phi(text) for text in X_str_dev]"
   ]
  },
  {
   "cell_type": "code",
   "execution_count": null,
   "metadata": {},
   "outputs": [],
   "source": []
  },
  {
   "cell_type": "code",
   "execution_count": null,
   "metadata": {},
   "outputs": [],
   "source": [
    "model = TorchShallowNeuralClassifier(\n",
    "    early_stopping=True,\n",
    "    hidden_dim=300)"
   ]
  },
  {
   "cell_type": "code",
   "execution_count": null,
   "metadata": {},
   "outputs": [],
   "source": [
    "%time _ = model.fit(X_train, y_train)"
   ]
  },
  {
   "cell_type": "code",
   "execution_count": null,
   "metadata": {},
   "outputs": [],
   "source": [
    "preds = model.predict(X_dev)"
   ]
  },
  {
   "cell_type": "code",
   "execution_count": null,
   "metadata": {},
   "outputs": [],
   "source": [
    "from sklearn.metrics import classification_report\n",
    "print(classification_report(y_dev, preds, digits=3))"
   ]
  }
 ],
 "metadata": {
  "kernelspec": {
   "display_name": "nlu",
   "language": "python",
   "name": "nlu"
  },
  "language_info": {
   "codemirror_mode": {
    "name": "ipython",
    "version": 3
   },
   "file_extension": ".py",
   "mimetype": "text/x-python",
   "name": "python",
   "nbconvert_exporter": "python",
   "pygments_lexer": "ipython3",
   "version": "3.8.5"
  }
 },
 "nbformat": 4,
 "nbformat_minor": 5
}
